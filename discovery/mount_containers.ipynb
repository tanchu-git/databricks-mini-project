{
 "cells": [
  {
   "cell_type": "markdown",
   "metadata": {
    "application/vnd.databricks.v1+cell": {
     "cellMetadata": {
      "byteLimit": 2048000,
      "rowLimit": 10000
     },
     "inputWidgets": {},
     "nuid": "b1e5dae2-c340-43d7-ac89-e791f7f299d4",
     "showTitle": false,
     "title": ""
    }
   },
   "source": [
    "#### Mount Azure Data Lake using Service Principle\n",
    "1. Get client_ID, tenant_id and client_secret from key vault\n",
    "1. Set Spark config with app/client ID, directory/tenant ID and Secret\n",
    "1. Call file system utility mount"
   ]
  },
  {
   "cell_type": "code",
   "execution_count": 0,
   "metadata": {
    "application/vnd.databricks.v1+cell": {
     "cellMetadata": {
      "byteLimit": 2048000,
      "rowLimit": 10000
     },
     "inputWidgets": {},
     "nuid": "c7065f80-5b96-4010-ab1c-f176cdff7463",
     "showTitle": false,
     "title": ""
    }
   },
   "outputs": [],
   "source": [
    "def mount_adls(storage_account, container_name):\n",
    "    \n",
    "    # Get secrets from Azure vault\n",
    "    client_secret = dbutils.secrets.get(\"formula1_scope\", 'service-principle-key')\n",
    "    client_id = dbutils.secrets.get(\"formula1_scope\", 'client-id')\n",
    "    tenant_id = dbutils.secrets.get(\"formula1_scope\", 'tenant-id')\n",
    "\n",
    "    # Set Spark config\n",
    "    configs = {\"fs.azure.account.auth.type\": \"OAuth\",\n",
    "               \"fs.azure.account.oauth.provider.type\": \"org.apache.hadoop.fs.azurebfs.oauth2.ClientCredsTokenProvider\",\n",
    "               \"fs.azure.account.oauth2.client.id\": client_id,\n",
    "               \"fs.azure.account.oauth2.client.secret\": client_secret,\n",
    "               \"fs.azure.account.oauth2.client.endpoint\": f\"https://login.microsoftonline.com/{tenant_id}/oauth2/token\"}\n",
    "    \n",
    "    # Check if container is already mounted\n",
    "    if any(mount.mountPoint == f\"/mnt/{storage_account}/{container_name}\" for mount in dbutils.fs.mounts()):\n",
    "        dbutils.fs.unmount(f\"/mnt/{storage_account}/{container_name}\")\n",
    "\n",
    "    # Mount the container from specified storage account\n",
    "    dbutils.fs.mount(\n",
    "        source = f\"abfss://{container_name}@{storage_account}.dfs.core.windows.net/\",\n",
    "        mount_point = f\"/mnt/{storage_account}/{container_name}\",\n",
    "        extra_configs = configs)\n",
    "    "
   ]
  },
  {
   "cell_type": "markdown",
   "metadata": {
    "application/vnd.databricks.v1+cell": {
     "cellMetadata": {
      "byteLimit": 2048000,
      "rowLimit": 10000
     },
     "inputWidgets": {},
     "nuid": "56edcfdb-8371-4ac9-b28e-919ea7bbf5c3",
     "showTitle": false,
     "title": ""
    }
   },
   "source": [
    "#### Mount containers"
   ]
  },
  {
   "cell_type": "code",
   "execution_count": 0,
   "metadata": {
    "application/vnd.databricks.v1+cell": {
     "cellMetadata": {
      "byteLimit": 2048000,
      "rowLimit": 10000
     },
     "inputWidgets": {},
     "nuid": "14e7f7b0-1a27-41a0-a413-25b629982c3f",
     "showTitle": false,
     "title": ""
    }
   },
   "outputs": [
    {
     "output_type": "stream",
     "name": "stdout",
     "output_type": "stream",
     "text": [
      "/mnt/udemycourseproject/raw has been unmounted.\n/mnt/udemycourseproject/processed has been unmounted.\n/mnt/udemycourseproject/presentation has been unmounted.\n"
     ]
    },
    {
     "output_type": "display_data",
     "data": {
      "text/html": [
       "<style scoped>\n",
       "  .table-result-container {\n",
       "    max-height: 300px;\n",
       "    overflow: auto;\n",
       "  }\n",
       "  table, th, td {\n",
       "    border: 1px solid black;\n",
       "    border-collapse: collapse;\n",
       "  }\n",
       "  th, td {\n",
       "    padding: 5px;\n",
       "  }\n",
       "  th {\n",
       "    text-align: left;\n",
       "  }\n",
       "</style><div class='table-result-container'><table class='table-result'><thead style='background-color: white'><tr><th>mountPoint</th><th>source</th><th>encryptionType</th></tr></thead><tbody><tr><td>/databricks-datasets</td><td>databricks-datasets</td><td></td></tr><tr><td>/mnt/udemycourseproject/raw</td><td>abfss://raw@udemycourseproject.dfs.core.windows.net/</td><td></td></tr><tr><td>/databricks/mlflow-tracking</td><td>databricks/mlflow-tracking</td><td></td></tr><tr><td>/databricks-results</td><td>databricks-results</td><td></td></tr><tr><td>/mnt/udemycourseproject/demo</td><td>abfss://demo@udemycourseproject.dfs.core.windows.net/</td><td></td></tr><tr><td>/databricks/mlflow-registry</td><td>databricks/mlflow-registry</td><td></td></tr><tr><td>/mnt/udemycourseproject/processed</td><td>abfss://processed@udemycourseproject.dfs.core.windows.net/</td><td></td></tr><tr><td>/</td><td>DatabricksRoot</td><td></td></tr><tr><td>/mnt/udemycourseproject/presentation</td><td>abfss://presentation@udemycourseproject.dfs.core.windows.net/</td><td></td></tr></tbody></table></div>"
      ]
     },
     "metadata": {
      "application/vnd.databricks.v1+output": {
       "addedWidgets": {},
       "aggData": [],
       "aggError": "",
       "aggOverflow": false,
       "aggSchema": [],
       "aggSeriesLimitReached": false,
       "aggType": "",
       "arguments": {},
       "columnCustomDisplayInfos": {},
       "data": [
        [
         "/databricks-datasets",
         "databricks-datasets",
         ""
        ],
        [
         "/mnt/udemycourseproject/raw",
         "abfss://raw@udemycourseproject.dfs.core.windows.net/",
         ""
        ],
        [
         "/databricks/mlflow-tracking",
         "databricks/mlflow-tracking",
         ""
        ],
        [
         "/databricks-results",
         "databricks-results",
         ""
        ],
        [
         "/mnt/udemycourseproject/demo",
         "abfss://demo@udemycourseproject.dfs.core.windows.net/",
         ""
        ],
        [
         "/databricks/mlflow-registry",
         "databricks/mlflow-registry",
         ""
        ],
        [
         "/mnt/udemycourseproject/processed",
         "abfss://processed@udemycourseproject.dfs.core.windows.net/",
         ""
        ],
        [
         "/",
         "DatabricksRoot",
         ""
        ],
        [
         "/mnt/udemycourseproject/presentation",
         "abfss://presentation@udemycourseproject.dfs.core.windows.net/",
         ""
        ]
       ],
       "datasetInfos": [],
       "dbfsResultPath": null,
       "isJsonSchema": true,
       "metadata": {},
       "overflow": false,
       "plotOptions": {
        "customPlotOptions": {},
        "displayType": "table",
        "pivotAggregation": null,
        "pivotColumns": null,
        "xColumns": null,
        "yColumns": null
       },
       "removedWidgets": [],
       "schema": [
        {
         "metadata": "{}",
         "name": "mountPoint",
         "type": "\"string\""
        },
        {
         "metadata": "{}",
         "name": "source",
         "type": "\"string\""
        },
        {
         "metadata": "{}",
         "name": "encryptionType",
         "type": "\"string\""
        }
       ],
       "type": "table"
      }
     },
     "output_type": "display_data"
    }
   ],
   "source": [
    "# List of containers\n",
    "containers = [\"raw\", \"processed\", \"presentation\"]\n",
    "\n",
    "# Loop though them and mount\n",
    "for container in containers:\n",
    "    mount_adls(\"udemycourseproject\", container)\n",
    "    \n",
    "display(dbutils.fs.mounts())"
   ]
  },
  {
   "cell_type": "code",
   "execution_count": 0,
   "metadata": {
    "application/vnd.databricks.v1+cell": {
     "cellMetadata": {
      "byteLimit": 2048000,
      "rowLimit": 10000
     },
     "inputWidgets": {},
     "nuid": "f4f8e6c0-94ef-4535-a4f3-e69696a38dbc",
     "showTitle": false,
     "title": ""
    }
   },
   "outputs": [
    {
     "output_type": "stream",
     "name": "stdout",
     "output_type": "stream",
     "text": [
      "Out[3]: [SecretMetadata(key='client-id'),\n SecretMetadata(key='notebook1-access-key'),\n SecretMetadata(key='sas-secret'),\n SecretMetadata(key='service-principle-key'),\n SecretMetadata(key='tenant-id')]"
     ]
    }
   ],
   "source": [
    "dbutils.secrets.list('formula1_scope')"
   ]
  },
  {
   "cell_type": "code",
   "execution_count": 0,
   "metadata": {
    "application/vnd.databricks.v1+cell": {
     "cellMetadata": {
      "byteLimit": 2048000,
      "rowLimit": 10000
     },
     "inputWidgets": {},
     "nuid": "8fc675ab-fb0d-43dc-830c-7826d3f8cb17",
     "showTitle": false,
     "title": ""
    }
   },
   "outputs": [
    {
     "output_type": "display_data",
     "data": {
      "text/html": [
       "<style scoped>\n",
       "  .table-result-container {\n",
       "    max-height: 300px;\n",
       "    overflow: auto;\n",
       "  }\n",
       "  table, th, td {\n",
       "    border: 1px solid black;\n",
       "    border-collapse: collapse;\n",
       "  }\n",
       "  th, td {\n",
       "    padding: 5px;\n",
       "  }\n",
       "  th {\n",
       "    text-align: left;\n",
       "  }\n",
       "</style><div class='table-result-container'><table class='table-result'><thead style='background-color: white'><tr><th>path</th><th>name</th><th>size</th><th>modificationTime</th></tr></thead><tbody><tr><td>dbfs:/mnt/udemycourseproject/processed/circuits/</td><td>circuits/</td><td>0</td><td>1687468601000</td></tr><tr><td>dbfs:/mnt/udemycourseproject/processed/races/</td><td>races/</td><td>0</td><td>1687475505000</td></tr></tbody></table></div>"
      ]
     },
     "metadata": {
      "application/vnd.databricks.v1+output": {
       "addedWidgets": {},
       "aggData": [],
       "aggError": "",
       "aggOverflow": false,
       "aggSchema": [],
       "aggSeriesLimitReached": false,
       "aggType": "",
       "arguments": {},
       "columnCustomDisplayInfos": {},
       "data": [
        [
         "dbfs:/mnt/udemycourseproject/processed/circuits/",
         "circuits/",
         0,
         1687468601000
        ],
        [
         "dbfs:/mnt/udemycourseproject/processed/races/",
         "races/",
         0,
         1687475505000
        ]
       ],
       "datasetInfos": [],
       "dbfsResultPath": null,
       "isJsonSchema": true,
       "metadata": {},
       "overflow": false,
       "plotOptions": {
        "customPlotOptions": {},
        "displayType": "table",
        "pivotAggregation": null,
        "pivotColumns": null,
        "xColumns": null,
        "yColumns": null
       },
       "removedWidgets": [],
       "schema": [
        {
         "metadata": "{}",
         "name": "path",
         "type": "\"string\""
        },
        {
         "metadata": "{}",
         "name": "name",
         "type": "\"string\""
        },
        {
         "metadata": "{}",
         "name": "size",
         "type": "\"long\""
        },
        {
         "metadata": "{}",
         "name": "modificationTime",
         "type": "\"long\""
        }
       ],
       "type": "table"
      }
     },
     "output_type": "display_data"
    }
   ],
   "source": [
    "display(dbutils.fs.ls(\"/mnt/udemycourseproject/processed\"))"
   ]
  }
 ],
 "metadata": {
  "application/vnd.databricks.v1+notebook": {
   "dashboards": [],
   "language": "python",
   "notebookMetadata": {
    "pythonIndentUnit": 4
   },
   "notebookName": "(Clone) 8_mount_all_containers_adls",
   "widgets": {}
  }
 },
 "nbformat": 4,
 "nbformat_minor": 0
}
