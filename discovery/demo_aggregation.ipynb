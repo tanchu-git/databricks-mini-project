{
 "cells": [
  {
   "cell_type": "code",
   "execution_count": 0,
   "metadata": {
    "application/vnd.databricks.v1+cell": {
     "cellMetadata": {
      "byteLimit": 2048000,
      "rowLimit": 10000
     },
     "inputWidgets": {},
     "nuid": "3e90ef24-538d-413e-936a-b23aa3522d9f",
     "showTitle": false,
     "title": ""
    }
   },
   "outputs": [],
   "source": [
    "%run \"./configuration\""
   ]
  },
  {
   "cell_type": "code",
   "execution_count": 0,
   "metadata": {
    "application/vnd.databricks.v1+cell": {
     "cellMetadata": {
      "byteLimit": 2048000,
      "rowLimit": 10000
     },
     "inputWidgets": {},
     "nuid": "ed4b4df3-161a-4597-94e6-df49148344cd",
     "showTitle": false,
     "title": ""
    }
   },
   "outputs": [],
   "source": [
    "race_results_df = spark.read.parquet(f\"{presentation_folder_path}/race_results\")"
   ]
  },
  {
   "cell_type": "code",
   "execution_count": 0,
   "metadata": {
    "application/vnd.databricks.v1+cell": {
     "cellMetadata": {
      "byteLimit": 2048000,
      "rowLimit": 10000
     },
     "inputWidgets": {},
     "nuid": "53a85f4f-fe0c-4dec-ac0e-014257f3f48f",
     "showTitle": false,
     "title": ""
    }
   },
   "outputs": [],
   "source": [
    "demo_df = race_results_df.where(\"race_year = 2020\")"
   ]
  },
  {
   "cell_type": "code",
   "execution_count": 0,
   "metadata": {
    "application/vnd.databricks.v1+cell": {
     "cellMetadata": {
      "byteLimit": 2048000,
      "rowLimit": 10000
     },
     "inputWidgets": {},
     "nuid": "1c133f57-d455-4e22-9ef1-6478585fef8d",
     "showTitle": false,
     "title": ""
    }
   },
   "outputs": [],
   "source": [
    "from pyspark.sql.functions import countDistinct, count, sum"
   ]
  },
  {
   "cell_type": "code",
   "execution_count": 0,
   "metadata": {
    "application/vnd.databricks.v1+cell": {
     "cellMetadata": {
      "byteLimit": 2048000,
      "rowLimit": 10000
     },
     "inputWidgets": {},
     "nuid": "72f60255-d9ba-4092-8cbc-04946a41bde1",
     "showTitle": false,
     "title": ""
    }
   },
   "outputs": [
    {
     "output_type": "stream",
     "name": "stdout",
     "output_type": "stream",
     "text": [
      "+-------------------------+\n|count(DISTINCT race_name)|\n+-------------------------+\n|                       17|\n+-------------------------+\n\n"
     ]
    }
   ],
   "source": [
    "demo_df.select(countDistinct(\"race_name\")).show()"
   ]
  },
  {
   "cell_type": "code",
   "execution_count": 0,
   "metadata": {
    "application/vnd.databricks.v1+cell": {
     "cellMetadata": {
      "byteLimit": 2048000,
      "rowLimit": 10000
     },
     "inputWidgets": {},
     "nuid": "05345eab-4cad-4edb-adf1-3790f9122d49",
     "showTitle": false,
     "title": ""
    }
   },
   "outputs": [
    {
     "output_type": "stream",
     "name": "stdout",
     "output_type": "stream",
     "text": [
      "+-----------+\n|sum(points)|\n+-----------+\n|      347.0|\n+-----------+\n\n"
     ]
    }
   ],
   "source": [
    "demo_df.where(\"driver_name = 'Lewis Hamilton'\").select(sum(\"points\")).show()"
   ]
  },
  {
   "cell_type": "code",
   "execution_count": 0,
   "metadata": {
    "application/vnd.databricks.v1+cell": {
     "cellMetadata": {
      "byteLimit": 2048000,
      "rowLimit": 10000
     },
     "inputWidgets": {},
     "nuid": "111e226f-886e-4cc2-bfb4-c41c099d4c87",
     "showTitle": false,
     "title": ""
    }
   },
   "outputs": [
    {
     "output_type": "stream",
     "name": "stdout",
     "output_type": "stream",
     "text": [
      "+-----------+---------------+\n|total_point|number_of_races|\n+-----------+---------------+\n|      347.0|             16|\n+-----------+---------------+\n\n"
     ]
    }
   ],
   "source": [
    "demo_df.where(\"driver_name = 'Lewis Hamilton'\").select(sum(\"points\"), countDistinct(\"race_name\")) \\\n",
    "    .withColumnRenamed(\"sum(points)\", \"total_point\") \\\n",
    "    .withColumnRenamed(\"count(DISTINCT race_name)\", \"number_of_races\") \\\n",
    "    .show()"
   ]
  },
  {
   "cell_type": "markdown",
   "metadata": {
    "application/vnd.databricks.v1+cell": {
     "cellMetadata": {},
     "inputWidgets": {},
     "nuid": "df0f81b4-d715-496d-85f8-6dbb005f8424",
     "showTitle": false,
     "title": ""
    }
   },
   "source": [
    "### groupby"
   ]
  },
  {
   "cell_type": "code",
   "execution_count": 0,
   "metadata": {
    "application/vnd.databricks.v1+cell": {
     "cellMetadata": {
      "byteLimit": 2048000,
      "rowLimit": 10000
     },
     "inputWidgets": {},
     "nuid": "511ace34-8375-45d3-89ec-86bcf5fa1a29",
     "showTitle": false,
     "title": ""
    }
   },
   "outputs": [
    {
     "output_type": "stream",
     "name": "stdout",
     "output_type": "stream",
     "text": [
      "+------------------+------------+---------------+\n|       driver_name|total_points|number_of_races|\n+------------------+------------+---------------+\n|       Jack Aitken|         0.0|              1|\n|      Daniil Kvyat|        32.0|             17|\n|   Kevin Magnussen|         1.0|             17|\n|      Sergio Pérez|       125.0|             15|\n|      Carlos Sainz|       105.0|             17|\n|    Kimi Räikkönen|         4.0|             17|\n|   Romain Grosjean|         2.0|             15|\n|   Charles Leclerc|        98.0|             17|\n|   Alexander Albon|       105.0|             17|\n|      Lance Stroll|        75.0|             16|\n|      Pierre Gasly|        75.0|             17|\n|    Lewis Hamilton|       347.0|             16|\n|   Nico Hülkenberg|        10.0|              3|\n|  Daniel Ricciardo|       119.0|             17|\n|   Valtteri Bottas|       223.0|             17|\n|Antonio Giovinazzi|         4.0|             17|\n|      Lando Norris|        97.0|             17|\n|    Max Verstappen|       214.0|             17|\n|    George Russell|         3.0|             17|\n|  Sebastian Vettel|        33.0|             17|\n+------------------+------------+---------------+\nonly showing top 20 rows\n\n"
     ]
    }
   ],
   "source": [
    "demo_df.groupby(\"driver_name\") \\\n",
    "    .agg(sum(\"points\").alias(\"total_points\"), \n",
    "         countDistinct(\"race_name\").alias(\"number_of_races\")\n",
    "        ) \\\n",
    "    .show()"
   ]
  },
  {
   "cell_type": "markdown",
   "metadata": {
    "application/vnd.databricks.v1+cell": {
     "cellMetadata": {},
     "inputWidgets": {},
     "nuid": "0943760c-0999-4c00-bbc2-84d174716d28",
     "showTitle": false,
     "title": ""
    }
   },
   "source": [
    "### Window functions"
   ]
  },
  {
   "cell_type": "code",
   "execution_count": 0,
   "metadata": {
    "application/vnd.databricks.v1+cell": {
     "cellMetadata": {
      "byteLimit": 2048000,
      "rowLimit": 10000
     },
     "inputWidgets": {},
     "nuid": "0432afd9-3485-4c81-8db5-fbb7de47fef0",
     "showTitle": false,
     "title": ""
    }
   },
   "outputs": [],
   "source": [
    "demo_df = race_results_df.where(\"race_year in (2019, 2020)\")"
   ]
  },
  {
   "cell_type": "code",
   "execution_count": 0,
   "metadata": {
    "application/vnd.databricks.v1+cell": {
     "cellMetadata": {
      "byteLimit": 2048000,
      "rowLimit": 10000
     },
     "inputWidgets": {},
     "nuid": "68f7a9ec-a35b-45fd-a785-1dc23ca42453",
     "showTitle": false,
     "title": ""
    }
   },
   "outputs": [],
   "source": [
    "demo_grouped_df = demo_df.groupby(\"race_year\", \"driver_name\") \\\n",
    "    .agg(sum(\"points\").alias(\"total_points\"), \n",
    "         countDistinct(\"race_name\").alias(\"number_of_races\")\n",
    "        )"
   ]
  },
  {
   "cell_type": "code",
   "execution_count": 0,
   "metadata": {
    "application/vnd.databricks.v1+cell": {
     "cellMetadata": {
      "byteLimit": 2048000,
      "rowLimit": 10000
     },
     "inputWidgets": {},
     "nuid": "5761459f-fa8a-44b0-90a2-33a4b922c8c8",
     "showTitle": false,
     "title": ""
    }
   },
   "outputs": [
    {
     "output_type": "display_data",
     "data": {
      "text/html": [
       "<style scoped>\n",
       "  .table-result-container {\n",
       "    max-height: 300px;\n",
       "    overflow: auto;\n",
       "  }\n",
       "  table, th, td {\n",
       "    border: 1px solid black;\n",
       "    border-collapse: collapse;\n",
       "  }\n",
       "  th, td {\n",
       "    padding: 5px;\n",
       "  }\n",
       "  th {\n",
       "    text-align: left;\n",
       "  }\n",
       "</style><div class='table-result-container'><table class='table-result'><thead style='background-color: white'><tr><th>race_year</th><th>driver_name</th><th>total_points</th><th>number_of_races</th></tr></thead><tbody><tr><td>2019</td><td>Lewis Hamilton</td><td>413.0</td><td>21</td></tr><tr><td>2019</td><td>Valtteri Bottas</td><td>326.0</td><td>21</td></tr><tr><td>2019</td><td>Max Verstappen</td><td>278.0</td><td>21</td></tr><tr><td>2019</td><td>Charles Leclerc</td><td>264.0</td><td>21</td></tr><tr><td>2019</td><td>Sebastian Vettel</td><td>240.0</td><td>21</td></tr><tr><td>2019</td><td>Carlos Sainz</td><td>96.0</td><td>21</td></tr><tr><td>2019</td><td>Pierre Gasly</td><td>95.0</td><td>21</td></tr><tr><td>2019</td><td>Alexander Albon</td><td>92.0</td><td>21</td></tr><tr><td>2019</td><td>Daniel Ricciardo</td><td>54.0</td><td>21</td></tr><tr><td>2019</td><td>Sergio Pérez</td><td>52.0</td><td>21</td></tr><tr><td>2019</td><td>Lando Norris</td><td>49.0</td><td>21</td></tr><tr><td>2019</td><td>Kimi Räikkönen</td><td>43.0</td><td>21</td></tr><tr><td>2019</td><td>Nico Hülkenberg</td><td>37.0</td><td>21</td></tr><tr><td>2019</td><td>Daniil Kvyat</td><td>37.0</td><td>21</td></tr><tr><td>2019</td><td>Lance Stroll</td><td>21.0</td><td>21</td></tr><tr><td>2019</td><td>Kevin Magnussen</td><td>20.0</td><td>21</td></tr><tr><td>2019</td><td>Antonio Giovinazzi</td><td>14.0</td><td>21</td></tr><tr><td>2019</td><td>Romain Grosjean</td><td>8.0</td><td>21</td></tr><tr><td>2019</td><td>Robert Kubica</td><td>1.0</td><td>21</td></tr><tr><td>2019</td><td>George Russell</td><td>0.0</td><td>21</td></tr><tr><td>2020</td><td>Lewis Hamilton</td><td>347.0</td><td>16</td></tr><tr><td>2020</td><td>Valtteri Bottas</td><td>223.0</td><td>17</td></tr><tr><td>2020</td><td>Max Verstappen</td><td>214.0</td><td>17</td></tr><tr><td>2020</td><td>Sergio Pérez</td><td>125.0</td><td>15</td></tr><tr><td>2020</td><td>Daniel Ricciardo</td><td>119.0</td><td>17</td></tr><tr><td>2020</td><td>Carlos Sainz</td><td>105.0</td><td>17</td></tr><tr><td>2020</td><td>Alexander Albon</td><td>105.0</td><td>17</td></tr><tr><td>2020</td><td>Charles Leclerc</td><td>98.0</td><td>17</td></tr><tr><td>2020</td><td>Lando Norris</td><td>97.0</td><td>17</td></tr><tr><td>2020</td><td>Pierre Gasly</td><td>75.0</td><td>17</td></tr><tr><td>2020</td><td>Lance Stroll</td><td>75.0</td><td>16</td></tr><tr><td>2020</td><td>Esteban Ocon</td><td>62.0</td><td>17</td></tr><tr><td>2020</td><td>Sebastian Vettel</td><td>33.0</td><td>17</td></tr><tr><td>2020</td><td>Daniil Kvyat</td><td>32.0</td><td>17</td></tr><tr><td>2020</td><td>Nico Hülkenberg</td><td>10.0</td><td>3</td></tr><tr><td>2020</td><td>Antonio Giovinazzi</td><td>4.0</td><td>17</td></tr><tr><td>2020</td><td>Kimi Räikkönen</td><td>4.0</td><td>17</td></tr><tr><td>2020</td><td>George Russell</td><td>3.0</td><td>17</td></tr><tr><td>2020</td><td>Romain Grosjean</td><td>2.0</td><td>15</td></tr><tr><td>2020</td><td>Kevin Magnussen</td><td>1.0</td><td>17</td></tr><tr><td>2020</td><td>Pietro Fittipaldi</td><td>0.0</td><td>2</td></tr><tr><td>2020</td><td>Jack Aitken</td><td>0.0</td><td>1</td></tr><tr><td>2020</td><td>Nicholas Latifi</td><td>0.0</td><td>17</td></tr></tbody></table></div>"
      ]
     },
     "metadata": {
      "application/vnd.databricks.v1+output": {
       "addedWidgets": {},
       "aggData": [],
       "aggError": "",
       "aggOverflow": false,
       "aggSchema": [],
       "aggSeriesLimitReached": false,
       "aggType": "",
       "arguments": {},
       "columnCustomDisplayInfos": {},
       "data": [
        [
         2019,
         "Lewis Hamilton",
         413.0,
         21
        ],
        [
         2019,
         "Valtteri Bottas",
         326.0,
         21
        ],
        [
         2019,
         "Max Verstappen",
         278.0,
         21
        ],
        [
         2019,
         "Charles Leclerc",
         264.0,
         21
        ],
        [
         2019,
         "Sebastian Vettel",
         240.0,
         21
        ],
        [
         2019,
         "Carlos Sainz",
         96.0,
         21
        ],
        [
         2019,
         "Pierre Gasly",
         95.0,
         21
        ],
        [
         2019,
         "Alexander Albon",
         92.0,
         21
        ],
        [
         2019,
         "Daniel Ricciardo",
         54.0,
         21
        ],
        [
         2019,
         "Sergio Pérez",
         52.0,
         21
        ],
        [
         2019,
         "Lando Norris",
         49.0,
         21
        ],
        [
         2019,
         "Kimi Räikkönen",
         43.0,
         21
        ],
        [
         2019,
         "Nico Hülkenberg",
         37.0,
         21
        ],
        [
         2019,
         "Daniil Kvyat",
         37.0,
         21
        ],
        [
         2019,
         "Lance Stroll",
         21.0,
         21
        ],
        [
         2019,
         "Kevin Magnussen",
         20.0,
         21
        ],
        [
         2019,
         "Antonio Giovinazzi",
         14.0,
         21
        ],
        [
         2019,
         "Romain Grosjean",
         8.0,
         21
        ],
        [
         2019,
         "Robert Kubica",
         1.0,
         21
        ],
        [
         2019,
         "George Russell",
         0.0,
         21
        ],
        [
         2020,
         "Lewis Hamilton",
         347.0,
         16
        ],
        [
         2020,
         "Valtteri Bottas",
         223.0,
         17
        ],
        [
         2020,
         "Max Verstappen",
         214.0,
         17
        ],
        [
         2020,
         "Sergio Pérez",
         125.0,
         15
        ],
        [
         2020,
         "Daniel Ricciardo",
         119.0,
         17
        ],
        [
         2020,
         "Carlos Sainz",
         105.0,
         17
        ],
        [
         2020,
         "Alexander Albon",
         105.0,
         17
        ],
        [
         2020,
         "Charles Leclerc",
         98.0,
         17
        ],
        [
         2020,
         "Lando Norris",
         97.0,
         17
        ],
        [
         2020,
         "Pierre Gasly",
         75.0,
         17
        ],
        [
         2020,
         "Lance Stroll",
         75.0,
         16
        ],
        [
         2020,
         "Esteban Ocon",
         62.0,
         17
        ],
        [
         2020,
         "Sebastian Vettel",
         33.0,
         17
        ],
        [
         2020,
         "Daniil Kvyat",
         32.0,
         17
        ],
        [
         2020,
         "Nico Hülkenberg",
         10.0,
         3
        ],
        [
         2020,
         "Antonio Giovinazzi",
         4.0,
         17
        ],
        [
         2020,
         "Kimi Räikkönen",
         4.0,
         17
        ],
        [
         2020,
         "George Russell",
         3.0,
         17
        ],
        [
         2020,
         "Romain Grosjean",
         2.0,
         15
        ],
        [
         2020,
         "Kevin Magnussen",
         1.0,
         17
        ],
        [
         2020,
         "Pietro Fittipaldi",
         0.0,
         2
        ],
        [
         2020,
         "Jack Aitken",
         0.0,
         1
        ],
        [
         2020,
         "Nicholas Latifi",
         0.0,
         17
        ]
       ],
       "datasetInfos": [],
       "dbfsResultPath": null,
       "isJsonSchema": true,
       "metadata": {},
       "overflow": false,
       "plotOptions": {
        "customPlotOptions": {},
        "displayType": "table",
        "pivotAggregation": null,
        "pivotColumns": null,
        "xColumns": null,
        "yColumns": null
       },
       "removedWidgets": [],
       "schema": [
        {
         "metadata": "{}",
         "name": "race_year",
         "type": "\"integer\""
        },
        {
         "metadata": "{}",
         "name": "driver_name",
         "type": "\"string\""
        },
        {
         "metadata": "{}",
         "name": "total_points",
         "type": "\"double\""
        },
        {
         "metadata": "{}",
         "name": "number_of_races",
         "type": "\"long\""
        }
       ],
       "type": "table"
      }
     },
     "output_type": "display_data"
    }
   ],
   "source": [
    "display(demo_grouped_df.sort([\"race_year\", \"total_points\"], ascending=[True, False]))"
   ]
  },
  {
   "cell_type": "code",
   "execution_count": 0,
   "metadata": {
    "application/vnd.databricks.v1+cell": {
     "cellMetadata": {
      "byteLimit": 2048000,
      "rowLimit": 10000
     },
     "inputWidgets": {},
     "nuid": "ff15ab3d-103e-459c-8533-ba59f4df8224",
     "showTitle": false,
     "title": ""
    }
   },
   "outputs": [],
   "source": [
    "from pyspark.sql.window import Window\n",
    "from pyspark.sql.functions import rank, desc"
   ]
  },
  {
   "cell_type": "code",
   "execution_count": 0,
   "metadata": {
    "application/vnd.databricks.v1+cell": {
     "cellMetadata": {
      "byteLimit": 2048000,
      "rowLimit": 10000
     },
     "inputWidgets": {},
     "nuid": "83a36158-ac65-4e4d-adc9-bb6312637cd4",
     "showTitle": false,
     "title": ""
    }
   },
   "outputs": [
    {
     "output_type": "stream",
     "name": "stdout",
     "output_type": "stream",
     "text": [
      "+---------+------------------+------------+---------------+----+\n|race_year|       driver_name|total_points|number_of_races|rank|\n+---------+------------------+------------+---------------+----+\n|     2019|    Lewis Hamilton|       413.0|             21|   1|\n|     2019|   Valtteri Bottas|       326.0|             21|   2|\n|     2019|    Max Verstappen|       278.0|             21|   3|\n|     2019|   Charles Leclerc|       264.0|             21|   4|\n|     2019|  Sebastian Vettel|       240.0|             21|   5|\n|     2019|      Carlos Sainz|        96.0|             21|   6|\n|     2019|      Pierre Gasly|        95.0|             21|   7|\n|     2019|   Alexander Albon|        92.0|             21|   8|\n|     2019|  Daniel Ricciardo|        54.0|             21|   9|\n|     2019|      Sergio Pérez|        52.0|             21|  10|\n|     2019|      Lando Norris|        49.0|             21|  11|\n|     2019|    Kimi Räikkönen|        43.0|             21|  12|\n|     2019|   Nico Hülkenberg|        37.0|             21|  13|\n|     2019|      Daniil Kvyat|        37.0|             21|  13|\n|     2019|      Lance Stroll|        21.0|             21|  15|\n|     2019|   Kevin Magnussen|        20.0|             21|  16|\n|     2019|Antonio Giovinazzi|        14.0|             21|  17|\n|     2019|   Romain Grosjean|         8.0|             21|  18|\n|     2019|     Robert Kubica|         1.0|             21|  19|\n|     2019|    George Russell|         0.0|             21|  20|\n|     2020|    Lewis Hamilton|       347.0|             16|   1|\n|     2020|   Valtteri Bottas|       223.0|             17|   2|\n|     2020|    Max Verstappen|       214.0|             17|   3|\n|     2020|      Sergio Pérez|       125.0|             15|   4|\n|     2020|  Daniel Ricciardo|       119.0|             17|   5|\n|     2020|      Carlos Sainz|       105.0|             17|   6|\n|     2020|   Alexander Albon|       105.0|             17|   6|\n|     2020|   Charles Leclerc|        98.0|             17|   8|\n|     2020|      Lando Norris|        97.0|             17|   9|\n|     2020|      Pierre Gasly|        75.0|             17|  10|\n|     2020|      Lance Stroll|        75.0|             16|  10|\n|     2020|      Esteban Ocon|        62.0|             17|  12|\n|     2020|  Sebastian Vettel|        33.0|             17|  13|\n|     2020|      Daniil Kvyat|        32.0|             17|  14|\n|     2020|   Nico Hülkenberg|        10.0|              3|  15|\n|     2020|Antonio Giovinazzi|         4.0|             17|  16|\n|     2020|    Kimi Räikkönen|         4.0|             17|  16|\n|     2020|    George Russell|         3.0|             17|  18|\n|     2020|   Romain Grosjean|         2.0|             15|  19|\n|     2020|   Kevin Magnussen|         1.0|             17|  20|\n|     2020| Pietro Fittipaldi|         0.0|              2|  21|\n|     2020|       Jack Aitken|         0.0|              1|  21|\n|     2020|   Nicholas Latifi|         0.0|             17|  21|\n+---------+------------------+------------+---------------+----+\n\n"
     ]
    }
   ],
   "source": [
    "driver_rank_spec = Window.partitionBy(\"race_year\").orderBy(desc(\"total_points\"))\n",
    "\n",
    "demo_grouped_df.withColumn(\"rank\", rank().over(driver_rank_spec)).show(50)"
   ]
  }
 ],
 "metadata": {
  "application/vnd.databricks.v1+notebook": {
   "dashboards": [],
   "language": "python",
   "notebookMetadata": {
    "pythonIndentUnit": 4
   },
   "notebookName": "(Clone) 3_aggregate",
   "widgets": {}
  }
 },
 "nbformat": 4,
 "nbformat_minor": 0
}
