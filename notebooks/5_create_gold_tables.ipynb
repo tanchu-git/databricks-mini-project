{
 "cells": [
  {
   "cell_type": "markdown",
   "metadata": {
    "application/vnd.databricks.v1+cell": {
     "cellMetadata": {},
     "inputWidgets": {},
     "nuid": "aa72e1dc-e584-408b-893a-4021512dc39d",
     "showTitle": false,
     "title": ""
    }
   },
   "source": [
    "Join drivers and results tables from silver schema to identify leading driver."
   ]
  },
  {
   "cell_type": "code",
   "execution_count": 0,
   "metadata": {
    "application/vnd.databricks.v1+cell": {
     "cellMetadata": {
      "byteLimit": 2048000,
      "rowLimit": 10000
     },
     "inputWidgets": {},
     "nuid": "98097e61-a207-470f-b2db-692e919cde43",
     "showTitle": false,
     "title": ""
    }
   },
   "outputs": [
    {
     "output_type": "display_data",
     "data": {
      "text/html": [
       "<style scoped>\n",
       "  .table-result-container {\n",
       "    max-height: 300px;\n",
       "    overflow: auto;\n",
       "  }\n",
       "  table, th, td {\n",
       "    border: 1px solid black;\n",
       "    border-collapse: collapse;\n",
       "  }\n",
       "  th, td {\n",
       "    padding: 5px;\n",
       "  }\n",
       "  th {\n",
       "    text-align: left;\n",
       "  }\n",
       "</style><div class='table-result-container'><table class='table-result'><thead style='background-color: white'><tr><th>num_affected_rows</th><th>num_inserted_rows</th></tr></thead><tbody></tbody></table></div>"
      ]
     },
     "metadata": {
      "application/vnd.databricks.v1+output": {
       "addedWidgets": {},
       "aggData": [],
       "aggError": "",
       "aggOverflow": false,
       "aggSchema": [],
       "aggSeriesLimitReached": false,
       "aggType": "",
       "arguments": {},
       "columnCustomDisplayInfos": {},
       "data": [],
       "datasetInfos": [],
       "dbfsResultPath": null,
       "isJsonSchema": true,
       "metadata": {
        "isDbfsCommandResult": false
       },
       "overflow": false,
       "plotOptions": {
        "customPlotOptions": {},
        "displayType": "table",
        "pivotAggregation": null,
        "pivotColumns": null,
        "xColumns": null,
        "yColumns": null
       },
       "removedWidgets": [],
       "schema": [
        {
         "metadata": "{}",
         "name": "num_affected_rows",
         "type": "\"long\""
        },
        {
         "metadata": "{}",
         "name": "num_inserted_rows",
         "type": "\"long\""
        }
       ],
       "type": "table"
      }
     },
     "output_type": "display_data"
    }
   ],
   "source": [
    "DROP TABLE IF EXISTS formula1_dev.gold.driver_wins;\n",
    "\n",
    "CREATE TABLE IF NOT EXISTS formula1_dev.gold.driver_wins\n",
    "AS\n",
    "SELECT d.name, count(1) as number_of_wins\n",
    "  FROM formula1_dev.silver.drivers d\n",
    "  JOIN formula1_dev.silver.results r\n",
    "    on (d.driver_id = r.driver_id)\n",
    "  WHERE r.position = 1\n",
    "GROUP BY d.name;"
   ]
  },
  {
   "cell_type": "code",
   "execution_count": 0,
   "metadata": {
    "application/vnd.databricks.v1+cell": {
     "cellMetadata": {
      "byteLimit": 2048000,
      "rowLimit": 10000
     },
     "inputWidgets": {},
     "nuid": "0f72d5b1-1392-4eba-80c7-cbc498170fed",
     "showTitle": false,
     "title": ""
    }
   },
   "outputs": [
    {
     "output_type": "display_data",
     "data": {
      "text/html": [
       "<style scoped>\n",
       "  .table-result-container {\n",
       "    max-height: 300px;\n",
       "    overflow: auto;\n",
       "  }\n",
       "  table, th, td {\n",
       "    border: 1px solid black;\n",
       "    border-collapse: collapse;\n",
       "  }\n",
       "  th, td {\n",
       "    padding: 5px;\n",
       "  }\n",
       "  th {\n",
       "    text-align: left;\n",
       "  }\n",
       "</style><div class='table-result-container'><table class='table-result'><thead style='background-color: white'><tr><th>name</th><th>number_of_wins</th></tr></thead><tbody><tr><td>Lewis Hamilton</td><td>95</td></tr><tr><td>Michael Schumacher</td><td>91</td></tr><tr><td>Sebastian Vettel</td><td>53</td></tr><tr><td>Alain Prost</td><td>51</td></tr><tr><td>Ayrton Senna</td><td>41</td></tr><tr><td>Fernando Alonso</td><td>32</td></tr><tr><td>Nigel Mansell</td><td>31</td></tr><tr><td>Jackie Stewart</td><td>27</td></tr><tr><td>Niki Lauda</td><td>25</td></tr><tr><td>Jim Clark</td><td>25</td></tr><tr><td>Juan Fangio</td><td>24</td></tr><tr><td>Nelson Piquet</td><td>23</td></tr><tr><td>Nico Rosberg</td><td>23</td></tr><tr><td>Damon Hill</td><td>22</td></tr><tr><td>Kimi Räikkönen</td><td>21</td></tr><tr><td>Mika Häkkinen</td><td>20</td></tr><tr><td>Stirling Moss</td><td>16</td></tr><tr><td>Jenson Button</td><td>15</td></tr><tr><td>Emerson Fittipaldi</td><td>14</td></tr><tr><td>Jack Brabham</td><td>14</td></tr><tr><td>Graham Hill</td><td>14</td></tr><tr><td>David Coulthard</td><td>13</td></tr><tr><td>Alberto Ascari</td><td>13</td></tr><tr><td>Alan Jones</td><td>12</td></tr><tr><td>Carlos Reutemann</td><td>12</td></tr><tr><td>Mario Andretti</td><td>12</td></tr><tr><td>Rubens Barrichello</td><td>11</td></tr><tr><td>Jacques Villeneuve</td><td>11</td></tr><tr><td>Felipe Massa</td><td>11</td></tr><tr><td>Gerhard Berger</td><td>10</td></tr><tr><td>James Hunt</td><td>10</td></tr><tr><td>Jody Scheckter</td><td>10</td></tr><tr><td>Ronnie Peterson</td><td>10</td></tr><tr><td>Max Verstappen</td><td>10</td></tr><tr><td>Mark Webber</td><td>9</td></tr><tr><td>Valtteri Bottas</td><td>9</td></tr><tr><td>Denny Hulme</td><td>8</td></tr><tr><td>Jacky Ickx</td><td>8</td></tr><tr><td>Juan Pablo Montoya</td><td>7</td></tr><tr><td>René Arnoux</td><td>7</td></tr><tr><td>Daniel Ricciardo</td><td>7</td></tr><tr><td>Ralf Schumacher</td><td>6</td></tr><tr><td>Riccardo Patrese</td><td>6</td></tr><tr><td>Gilles Villeneuve</td><td>6</td></tr><tr><td>Jacques Laffite</td><td>6</td></tr><tr><td>John Surtees</td><td>6</td></tr><tr><td>Tony Brooks</td><td>6</td></tr><tr><td>Jochen Rindt</td><td>6</td></tr><tr><td>John Watson</td><td>5</td></tr><tr><td>Keke Rosberg</td><td>5</td></tr><tr><td>Clay Regazzoni</td><td>5</td></tr><tr><td>Michele Alboreto</td><td>5</td></tr><tr><td>Nino Farina</td><td>5</td></tr><tr><td>Eddie Irvine</td><td>4</td></tr><tr><td>Dan Gurney</td><td>4</td></tr><tr><td>Bruce McLaren</td><td>4</td></tr><tr><td>Thierry Boutsen</td><td>3</td></tr><tr><td>Giancarlo Fisichella</td><td>3</td></tr><tr><td>Johnny Herbert</td><td>3</td></tr><tr><td>Didier Pironi</td><td>3</td></tr><tr><td>Heinz-Harald Frentzen</td><td>3</td></tr><tr><td>Phil Hill</td><td>3</td></tr><tr><td>Mike Hawthorn</td><td>3</td></tr><tr><td>Peter Collins</td><td>3</td></tr><tr><td>Patrick Tambay</td><td>2</td></tr><tr><td>Patrick Depailler</td><td>2</td></tr><tr><td>Jean-Pierre Jabouille</td><td>2</td></tr><tr><td>Elio de Angelis</td><td>2</td></tr><tr><td>Bill Vukovich</td><td>2</td></tr><tr><td>José Froilán González</td><td>2</td></tr><tr><td>Charles Leclerc</td><td>2</td></tr><tr><td>Pedro Rodríguez</td><td>2</td></tr><tr><td>Peter Revson</td><td>2</td></tr><tr><td>Maurice Trintignant</td><td>2</td></tr><tr><td>Wolfgang von Trips</td><td>2</td></tr><tr><td>Jo Siffert</td><td>2</td></tr><tr><td>Robert Kubica</td><td>1</td></tr><tr><td>Vittorio Brambilla</td><td>1</td></tr><tr><td>Jarno Trulli</td><td>1</td></tr><tr><td>Olivier Panis</td><td>1</td></tr><tr><td>Alessandro Nannini</td><td>1</td></tr><tr><td>Heikki Kovalainen</td><td>1</td></tr><tr><td>Gunnar Nilsson</td><td>1</td></tr><tr><td>Jochen Mass</td><td>1</td></tr><tr><td>Jean Alesi</td><td>1</td></tr><tr><td>Carlos Pace</td><td>1</td></tr><tr><td>Richie Ginther</td><td>1</td></tr><tr><td>François Cevert</td><td>1</td></tr><tr><td>Innes Ireland</td><td>1</td></tr><tr><td>Jean-Pierre Beltoise</td><td>1</td></tr><tr><td>Piero Taruffi</td><td>1</td></tr><tr><td>Pat Flaherty</td><td>1</td></tr><tr><td>Sergio Pérez</td><td>1</td></tr><tr><td>Bob Sweikert</td><td>1</td></tr><tr><td>Jimmy Bryan</td><td>1</td></tr><tr><td>Peter Gethin</td><td>1</td></tr><tr><td>Johnnie Parsons</td><td>1</td></tr><tr><td>Sam Hanks</td><td>1</td></tr><tr><td>Pierre Gasly</td><td>1</td></tr><tr><td>Luigi Musso</td><td>1</td></tr><tr><td>Jim Rathmann</td><td>1</td></tr><tr><td>Ludovico Scarfiotti</td><td>1</td></tr><tr><td>Luigi Fagioli</td><td>1</td></tr><tr><td>Pastor Maldonado</td><td>1</td></tr><tr><td>Giancarlo Baghetti</td><td>1</td></tr><tr><td>Lee Wallard</td><td>1</td></tr><tr><td>Rodger Ward</td><td>1</td></tr><tr><td>Lorenzo Bandini</td><td>1</td></tr><tr><td>Jo Bonnier</td><td>1</td></tr><tr><td>Troy Ruttman</td><td>1</td></tr></tbody></table></div>"
      ]
     },
     "metadata": {
      "application/vnd.databricks.v1+output": {
       "addedWidgets": {},
       "aggData": [],
       "aggError": "",
       "aggOverflow": false,
       "aggSchema": [],
       "aggSeriesLimitReached": false,
       "aggType": "",
       "arguments": {},
       "columnCustomDisplayInfos": {},
       "data": [
        [
         "Lewis Hamilton",
         95
        ],
        [
         "Michael Schumacher",
         91
        ],
        [
         "Sebastian Vettel",
         53
        ],
        [
         "Alain Prost",
         51
        ],
        [
         "Ayrton Senna",
         41
        ],
        [
         "Fernando Alonso",
         32
        ],
        [
         "Nigel Mansell",
         31
        ],
        [
         "Jackie Stewart",
         27
        ],
        [
         "Niki Lauda",
         25
        ],
        [
         "Jim Clark",
         25
        ],
        [
         "Juan Fangio",
         24
        ],
        [
         "Nelson Piquet",
         23
        ],
        [
         "Nico Rosberg",
         23
        ],
        [
         "Damon Hill",
         22
        ],
        [
         "Kimi Räikkönen",
         21
        ],
        [
         "Mika Häkkinen",
         20
        ],
        [
         "Stirling Moss",
         16
        ],
        [
         "Jenson Button",
         15
        ],
        [
         "Emerson Fittipaldi",
         14
        ],
        [
         "Jack Brabham",
         14
        ],
        [
         "Graham Hill",
         14
        ],
        [
         "David Coulthard",
         13
        ],
        [
         "Alberto Ascari",
         13
        ],
        [
         "Alan Jones",
         12
        ],
        [
         "Carlos Reutemann",
         12
        ],
        [
         "Mario Andretti",
         12
        ],
        [
         "Rubens Barrichello",
         11
        ],
        [
         "Jacques Villeneuve",
         11
        ],
        [
         "Felipe Massa",
         11
        ],
        [
         "Gerhard Berger",
         10
        ],
        [
         "James Hunt",
         10
        ],
        [
         "Jody Scheckter",
         10
        ],
        [
         "Ronnie Peterson",
         10
        ],
        [
         "Max Verstappen",
         10
        ],
        [
         "Mark Webber",
         9
        ],
        [
         "Valtteri Bottas",
         9
        ],
        [
         "Denny Hulme",
         8
        ],
        [
         "Jacky Ickx",
         8
        ],
        [
         "Juan Pablo Montoya",
         7
        ],
        [
         "René Arnoux",
         7
        ],
        [
         "Daniel Ricciardo",
         7
        ],
        [
         "Ralf Schumacher",
         6
        ],
        [
         "Riccardo Patrese",
         6
        ],
        [
         "Gilles Villeneuve",
         6
        ],
        [
         "Jacques Laffite",
         6
        ],
        [
         "John Surtees",
         6
        ],
        [
         "Tony Brooks",
         6
        ],
        [
         "Jochen Rindt",
         6
        ],
        [
         "John Watson",
         5
        ],
        [
         "Keke Rosberg",
         5
        ],
        [
         "Clay Regazzoni",
         5
        ],
        [
         "Michele Alboreto",
         5
        ],
        [
         "Nino Farina",
         5
        ],
        [
         "Eddie Irvine",
         4
        ],
        [
         "Dan Gurney",
         4
        ],
        [
         "Bruce McLaren",
         4
        ],
        [
         "Thierry Boutsen",
         3
        ],
        [
         "Giancarlo Fisichella",
         3
        ],
        [
         "Johnny Herbert",
         3
        ],
        [
         "Didier Pironi",
         3
        ],
        [
         "Heinz-Harald Frentzen",
         3
        ],
        [
         "Phil Hill",
         3
        ],
        [
         "Mike Hawthorn",
         3
        ],
        [
         "Peter Collins",
         3
        ],
        [
         "Patrick Tambay",
         2
        ],
        [
         "Patrick Depailler",
         2
        ],
        [
         "Jean-Pierre Jabouille",
         2
        ],
        [
         "Elio de Angelis",
         2
        ],
        [
         "Bill Vukovich",
         2
        ],
        [
         "José Froilán González",
         2
        ],
        [
         "Charles Leclerc",
         2
        ],
        [
         "Pedro Rodríguez",
         2
        ],
        [
         "Peter Revson",
         2
        ],
        [
         "Maurice Trintignant",
         2
        ],
        [
         "Wolfgang von Trips",
         2
        ],
        [
         "Jo Siffert",
         2
        ],
        [
         "Robert Kubica",
         1
        ],
        [
         "Vittorio Brambilla",
         1
        ],
        [
         "Jarno Trulli",
         1
        ],
        [
         "Olivier Panis",
         1
        ],
        [
         "Alessandro Nannini",
         1
        ],
        [
         "Heikki Kovalainen",
         1
        ],
        [
         "Gunnar Nilsson",
         1
        ],
        [
         "Jochen Mass",
         1
        ],
        [
         "Jean Alesi",
         1
        ],
        [
         "Carlos Pace",
         1
        ],
        [
         "Richie Ginther",
         1
        ],
        [
         "François Cevert",
         1
        ],
        [
         "Innes Ireland",
         1
        ],
        [
         "Jean-Pierre Beltoise",
         1
        ],
        [
         "Piero Taruffi",
         1
        ],
        [
         "Pat Flaherty",
         1
        ],
        [
         "Sergio Pérez",
         1
        ],
        [
         "Bob Sweikert",
         1
        ],
        [
         "Jimmy Bryan",
         1
        ],
        [
         "Peter Gethin",
         1
        ],
        [
         "Johnnie Parsons",
         1
        ],
        [
         "Sam Hanks",
         1
        ],
        [
         "Pierre Gasly",
         1
        ],
        [
         "Luigi Musso",
         1
        ],
        [
         "Jim Rathmann",
         1
        ],
        [
         "Ludovico Scarfiotti",
         1
        ],
        [
         "Luigi Fagioli",
         1
        ],
        [
         "Pastor Maldonado",
         1
        ],
        [
         "Giancarlo Baghetti",
         1
        ],
        [
         "Lee Wallard",
         1
        ],
        [
         "Rodger Ward",
         1
        ],
        [
         "Lorenzo Bandini",
         1
        ],
        [
         "Jo Bonnier",
         1
        ],
        [
         "Troy Ruttman",
         1
        ]
       ],
       "datasetInfos": [],
       "dbfsResultPath": null,
       "isJsonSchema": true,
       "metadata": {
        "isDbfsCommandResult": false
       },
       "overflow": false,
       "plotOptions": {
        "customPlotOptions": {},
        "displayType": "table",
        "pivotAggregation": null,
        "pivotColumns": null,
        "xColumns": null,
        "yColumns": null
       },
       "removedWidgets": [],
       "schema": [
        {
         "metadata": "{}",
         "name": "name",
         "type": "\"string\""
        },
        {
         "metadata": "{}",
         "name": "number_of_wins",
         "type": "\"long\""
        }
       ],
       "type": "table"
      }
     },
     "output_type": "display_data"
    }
   ],
   "source": [
    "\n",
    "SELECT * \n",
    "FROM formula1_dev.gold.driver_wins \n",
    "ORDER BY number_of_wins DESC;"
   ]
  }
 ],
 "metadata": {
  "application/vnd.databricks.v1+notebook": {
   "dashboards": [],
   "language": "sql",
   "notebookMetadata": {
    "pythonIndentUnit": 4
   },
   "notebookName": "5_create_gold_tables",
   "widgets": {}
  }
 },
 "nbformat": 4,
 "nbformat_minor": 0
}
