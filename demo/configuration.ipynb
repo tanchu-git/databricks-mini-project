{
 "cells": [
  {
   "cell_type": "code",
   "execution_count": 0,
   "metadata": {
    "application/vnd.databricks.v1+cell": {
     "cellMetadata": {
      "byteLimit": 2048000,
      "rowLimit": 10000
     },
     "inputWidgets": {},
     "nuid": "ff20243a-2a68-46e2-a9c2-488b7f8f06fa",
     "showTitle": false,
     "title": ""
    }
   },
   "outputs": [],
   "source": [
    "raw_folder_path = \"/mnt/udemycourseproject/raw\"\n",
    "processed_folder_path = \"/mnt/udemycourseproject/processed\"\n",
    "presentation_folder_path = \"/mnt/udemycourseproject/presentation\""
   ]
  },
  {
   "cell_type": "code",
   "execution_count": 0,
   "metadata": {
    "application/vnd.databricks.v1+cell": {
     "cellMetadata": {
      "byteLimit": 2048000,
      "rowLimit": 10000
     },
     "inputWidgets": {},
     "nuid": "62a09745-8aca-428e-89e6-3b6a6e78109d",
     "showTitle": false,
     "title": ""
    }
   },
   "outputs": [],
   "source": [
    "# When not using mounted container. Use abfss!\n",
    "\n",
    "# raw_folder_path = \"abfss://raw@udemycourseproject.dfs.core.windows.net\"\n",
    "# processed_folder_path = \"abfss://processed@udemycourseproject.dfs.core.windows.net\"\n",
    "# presentation_folder_path = \"abfss://presentation@udemycourseproject.dfs.core.windows.net\""
   ]
  }
 ],
 "metadata": {
  "application/vnd.databricks.v1+notebook": {
   "dashboards": [],
   "language": "python",
   "notebookMetadata": {
    "pythonIndentUnit": 4
   },
   "notebookName": "configuration",
   "widgets": {}
  }
 },
 "nbformat": 4,
 "nbformat_minor": 0
}
